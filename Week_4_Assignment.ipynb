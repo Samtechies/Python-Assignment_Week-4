{
  "nbformat": 4,
  "nbformat_minor": 0,
  "metadata": {
    "colab": {
      "provenance": [],
      "authorship_tag": "ABX9TyMJ0YKTY9hAvnR7vFCqmHaZ",
      "include_colab_link": true
    },
    "kernelspec": {
      "name": "python3",
      "display_name": "Python 3"
    },
    "language_info": {
      "name": "python"
    }
  },
  "cells": [
    {
      "cell_type": "markdown",
      "metadata": {
        "id": "view-in-github",
        "colab_type": "text"
      },
      "source": [
        "<a href=\"https://colab.research.google.com/github/Samtechies/Python-Assignment_Week-4/blob/master/Week_4_Assignment.ipynb\" target=\"_parent\"><img src=\"https://colab.research.google.com/assets/colab-badge.svg\" alt=\"Open In Colab\"/></a>"
      ]
    },
    {
      "cell_type": "markdown",
      "source": [
        "**QUESTION 1**\n",
        "-  Write a Python program to check whether a string is a palindrome or not using a stack"
      ],
      "metadata": {
        "id": "F0AciT57jTAR"
      }
    },
    {
      "cell_type": "code",
      "source": [
        "# PYTHON CODE TO CHECK WHETHER A STRING IS A PALINDROME OR NOT USING A STACK\n",
        "def is_palindrome(input_string):\n",
        "    # Initialize an empty stack\n",
        "    stack = []\n",
        "\n",
        "    # Normalize the string (remove spaces and convert to lowercase)\n",
        "    input_string = input_string.replace(\" \", \"\").lower()\n",
        "\n",
        "    # Push all characters of the string onto the stack\n",
        "    for char in input_string:\n",
        "        stack.append(char)\n",
        "\n",
        "    # Pop characters from the stack and compare with the original string\n",
        "    reversed_string = \"\"\n",
        "    while stack:\n",
        "        reversed_string += stack.pop()\n",
        "\n",
        "    # If the original string is the same as the reversed string, it's a palindrome\n",
        "    if input_string == reversed_string:\n",
        "        return True\n",
        "    else:\n",
        "        return False\n",
        "\n",
        "# Test the function\n",
        "test_string = \"A man a plan a canal Panama\"\n",
        "if is_palindrome(test_string):\n",
        "    print(f'\"{test_string}\" is a palindrome.')\n",
        "else:\n",
        "    print(f'\"{test_string}\" is not a palindrome.')"
      ],
      "metadata": {
        "colab": {
          "base_uri": "https://localhost:8080/"
        },
        "id": "y9hJgwuijimp",
        "outputId": "6412a8f5-1362-4c15-c2e4-2595401636fc"
      },
      "execution_count": 17,
      "outputs": [
        {
          "output_type": "stream",
          "name": "stdout",
          "text": [
            "\"A man a plan a canal Panama\" is a palindrome.\n"
          ]
        }
      ]
    },
    {
      "cell_type": "markdown",
      "source": [
        "**QUESTION 2**\n",
        "-  Explain the concept of list comprehension in Python with at least three examples."
      ],
      "metadata": {
        "id": "MAPNc7lMPaz9"
      }
    },
    {
      "cell_type": "markdown",
      "source": [
        "<b>List Comprehension in Python</b> <br>\n",
        "List comprehension is a concise way to create lists in Python. It allows you to generate a new list by applying an expression to each item in an existing iterable (like a list, tuple, or string), all in a single line of code. It’s like a shortcut that saves you from writing longer loops."
      ],
      "metadata": {
        "id": "SCuVRdZUOiGh"
      }
    },
    {
      "cell_type": "code",
      "execution_count": null,
      "metadata": {
        "id": "0D3zCw-YOVbK"
      },
      "outputs": [],
      "source": [
        "# BASIC SYNTAX:\n",
        "# new_list = [expression for item in iterable if condition]"
      ]
    },
    {
      "cell_type": "markdown",
      "source": [
        "-  Expression - The operation or value to a new list\n",
        "-  Item - The variable that takes the value of each element in the iterable\n",
        "-  Iterable - A Collection of items that you want to loop through"
      ],
      "metadata": {
        "id": "vTy4csZKPAQv"
      }
    },
    {
      "cell_type": "markdown",
      "source": [
        "**Example 1: Creating a List of Squares**"
      ],
      "metadata": {
        "id": "VTRTxGH1OhWI"
      }
    },
    {
      "cell_type": "code",
      "source": [
        "# WITHOUT LIST COMPREHENSION\n",
        "squares = []\n",
        "for i in range(1, 6):\n",
        "    squares.append(i ** 2)\n",
        "\n",
        "print(squares)"
      ],
      "metadata": {
        "colab": {
          "base_uri": "https://localhost:8080/"
        },
        "id": "bou9loToP5Yb",
        "outputId": "5bc3ecb7-9243-4d79-fea3-ad9c97812fa1"
      },
      "execution_count": 1,
      "outputs": [
        {
          "output_type": "stream",
          "name": "stdout",
          "text": [
            "[1, 4, 9, 16, 25]\n"
          ]
        }
      ]
    },
    {
      "cell_type": "code",
      "source": [
        "# WITH LIST COMPREHENSION\n",
        "squares = [i ** 2 for i in range(1, 6)]\n",
        "print(squares)"
      ],
      "metadata": {
        "colab": {
          "base_uri": "https://localhost:8080/"
        },
        "id": "WkIZ7OiSQSG8",
        "outputId": "e28ca6f4-2764-4df3-80a1-d3d88b757bd9"
      },
      "execution_count": 2,
      "outputs": [
        {
          "output_type": "stream",
          "name": "stdout",
          "text": [
            "[1, 4, 9, 16, 25]\n"
          ]
        }
      ]
    },
    {
      "cell_type": "markdown",
      "source": [
        "**Example 2**: Filtering with Conditions<br>\n",
        "-  Adding a Condition to filter items eg a list of even numbers from 1 to 10"
      ],
      "metadata": {
        "id": "YXSRKxemQbhS"
      }
    },
    {
      "cell_type": "code",
      "source": [
        "# WITHOUT LIST COMPREHENSION\n",
        "even_numbers = []\n",
        "for i in range(1, 11):\n",
        "    if i % 2 == 0:\n",
        "        even_numbers.append(i)\n",
        "\n",
        "print(even_numbers)"
      ],
      "metadata": {
        "colab": {
          "base_uri": "https://localhost:8080/"
        },
        "id": "6nFpAiS4Q1-v",
        "outputId": "7ff274ae-e1a6-4382-fce2-4d31cd7b0cf9"
      },
      "execution_count": 3,
      "outputs": [
        {
          "output_type": "stream",
          "name": "stdout",
          "text": [
            "[2, 4, 6, 8, 10]\n"
          ]
        }
      ]
    },
    {
      "cell_type": "code",
      "source": [
        "# WITH LIST COMPREHENSION\n",
        "even_numbers = [i for i in range(1, 11) if i % 2 == 0]\n",
        "print(even_numbers)"
      ],
      "metadata": {
        "colab": {
          "base_uri": "https://localhost:8080/"
        },
        "id": "Io-gM-NKRT-y",
        "outputId": "e8317d9f-89d0-49b6-cfbf-9349a6bee4c0"
      },
      "execution_count": 4,
      "outputs": [
        {
          "output_type": "stream",
          "name": "stdout",
          "text": [
            "[2, 4, 6, 8, 10]\n"
          ]
        }
      ]
    },
    {
      "cell_type": "markdown",
      "source": [
        "-  The Condition if i % 2 == 0 ensures only even numbers are included."
      ],
      "metadata": {
        "id": "NB_3gPEURnFd"
      }
    },
    {
      "cell_type": "markdown",
      "source": [
        "**Example 3**: Transforming Strings<br>\n",
        "-  Transforming list of names and converting them all to uppercase:"
      ],
      "metadata": {
        "id": "Tn0orw8WR4jc"
      }
    },
    {
      "cell_type": "code",
      "source": [
        "# WITHOUT LIST COMPREHENSION\n",
        "names = ['Alice', 'Bob', 'Charlie', 'David']\n",
        "uppercase_names = []\n",
        "for name in names:\n",
        "    uppercase_names.append(name.upper())\n",
        "\n",
        "print(uppercase_names)"
      ],
      "metadata": {
        "colab": {
          "base_uri": "https://localhost:8080/"
        },
        "id": "QHaSBv9iR3vK",
        "outputId": "7820f174-001f-4a55-d377-42de3f138bbc"
      },
      "execution_count": 5,
      "outputs": [
        {
          "output_type": "stream",
          "name": "stdout",
          "text": [
            "['ALICE', 'BOB', 'CHARLIE', 'DAVID']\n"
          ]
        }
      ]
    },
    {
      "cell_type": "code",
      "source": [
        "# WITH LIST COMPREHENSION\n",
        "names = ['Alice', 'Bob', 'Charlie', 'David']\n",
        "uppercase_names = [name.upper() for name in names]\n",
        "print(uppercase_names)"
      ],
      "metadata": {
        "colab": {
          "base_uri": "https://localhost:8080/"
        },
        "id": "ezOqBV3YSbLK",
        "outputId": "07e623c4-54cc-4861-867f-bd8b1d857b47"
      },
      "execution_count": 6,
      "outputs": [
        {
          "output_type": "stream",
          "name": "stdout",
          "text": [
            "['ALICE', 'BOB', 'CHARLIE', 'DAVID']\n"
          ]
        }
      ]
    },
    {
      "cell_type": "markdown",
      "source": [
        "**Common Compound Data Types in Python**\n",
        "-  *Lists* - These are ordered collection of items, where you can store a sequence of elements.<br>\n",
        "The elements can be any type such as integers, strings etc\n",
        "\n",
        "-  *Tuple* - Similar to lists, but tuples are immutable(cannot be changed after creation). They are oftern used to store a collection of items that should not be changed throughout the program\n",
        "\n",
        "-  *Dictionary* - It is a collection of key value pairs where it acts as a real world dictionary where you look up a word(the key) to find ots meanin(the value).\n",
        "We use Dictionaries in Python to store data where each value is associated with a unique key."
      ],
      "metadata": {
        "id": "CIZp5F6XSqyC"
      }
    },
    {
      "cell_type": "markdown",
      "source": [
        "**LIST SAMPLE CODE**"
      ],
      "metadata": {
        "id": "Rbgem3h8XuVx"
      }
    },
    {
      "cell_type": "code",
      "source": [
        "# SAMPLE LIST OF DIFFERENT TYPES OF FRUITS\n",
        "fruits = ['apple', 'banana', 'cherry', 'date', 'elderberry']\n",
        "\n",
        "# Accessing the first item\n",
        "print(fruits[0])\n",
        "\n",
        "# Adding a new fruit to the list\n",
        "fruits.append('pawpaw')\n",
        "print(fruits)\n",
        "\n",
        "# Removing the last fruit\n",
        "fruits.pop()\n",
        "print(fruits)"
      ],
      "metadata": {
        "colab": {
          "base_uri": "https://localhost:8080/"
        },
        "id": "1N3lOMFqV59d",
        "outputId": "3416c5f9-2d3f-4c6a-f583-cf9e44b3e210"
      },
      "execution_count": 8,
      "outputs": [
        {
          "output_type": "stream",
          "name": "stdout",
          "text": [
            "apple\n",
            "['apple', 'banana', 'cherry', 'date', 'elderberry', 'pawpaw']\n",
            "['apple', 'banana', 'cherry', 'date', 'elderberry']\n"
          ]
        }
      ]
    },
    {
      "cell_type": "markdown",
      "source": [
        "**TUPLE SAMPLE CODE**"
      ],
      "metadata": {
        "id": "MOPHY5iUXzZ7"
      }
    },
    {
      "cell_type": "code",
      "source": [
        "# A tuple representing coordinates (x, y)\n",
        "coordinates = (10, 20)\n",
        "\n",
        "# Accessing the x-coordinate\n",
        "print(coordinates[0])"
      ],
      "metadata": {
        "colab": {
          "base_uri": "https://localhost:8080/"
        },
        "id": "tGitrTnoX4oQ",
        "outputId": "de247833-85be-481f-adab-855436818e34"
      },
      "execution_count": 10,
      "outputs": [
        {
          "output_type": "stream",
          "name": "stdout",
          "text": [
            "10\n"
          ]
        }
      ]
    },
    {
      "cell_type": "markdown",
      "source": [
        "**SAMPLE DICTIONARY CODE**"
      ],
      "metadata": {
        "id": "u8Mf6cnIYQu_"
      }
    },
    {
      "cell_type": "code",
      "source": [
        "# A dictionary storing the number of pages in different books\n",
        "book_pages = {\n",
        "    'The Great Gatsby': 180,\n",
        "    'To Kill a Mockingbird': 281,\n",
        "    '1984': 328,\n",
        "    'Pride and Prejudice': 279\n",
        "}\n",
        "\n",
        "# Accessing the number of pages for '1984'\n",
        "print(book_pages['1984'])\n",
        "\n",
        "# Adding a new book to the dictionary\n",
        "book_pages['The Catcher in the Rye'] = 224\n",
        "print(book_pages)"
      ],
      "metadata": {
        "colab": {
          "base_uri": "https://localhost:8080/"
        },
        "id": "YXCw9IDlYUlt",
        "outputId": "c9249925-f401-492b-a885-62cca4de8cd6"
      },
      "execution_count": 12,
      "outputs": [
        {
          "output_type": "stream",
          "name": "stdout",
          "text": [
            "328\n",
            "{'The Great Gatsby': 180, 'To Kill a Mockingbird': 281, '1984': 328, 'Pride and Prejudice': 279, 'The Catcher in the Rye': 224}\n"
          ]
        }
      ]
    },
    {
      "cell_type": "markdown",
      "source": [
        "**QUESTION 4**\n",
        "-  Write a Function that takes a string and Returns a list of Bigrams"
      ],
      "metadata": {
        "id": "g0omnrYJZEDr"
      }
    },
    {
      "cell_type": "markdown",
      "source": [
        "A *Biagram* is a pair of consecutive elements from a sequence of items, ie a sequence of characters in a string. Steps to generate a bigram:\n",
        "\n",
        "\n",
        "1.   **Convert the string into a list of characters or words**(depending on whether you want character bigrams or word bigrams)\n",
        "2.  **Create pairs of consecutive elements**\n",
        "3.  **Store these pairs in a list**\n",
        "\n"
      ],
      "metadata": {
        "id": "2A14O9LVZxoa"
      }
    },
    {
      "cell_type": "markdown",
      "source": [
        "**Function that Writes a Python Function that takes a string and returns a list of Bigrams**"
      ],
      "metadata": {
        "id": "EDAU_fXGgL5_"
      }
    },
    {
      "cell_type": "code",
      "source": [
        "def generate_bigrams(input_string):\n",
        "  #Normalize the string (remove extra spaces and convert to lowercase)\n",
        "  input_string = input_string.lower().replace(\" \", \"\")\n",
        "\n",
        "  #Generate bigrams\n",
        "  bigrams = [input_string[i:i+2] for i in range(len(input_string) - 1)]\n",
        "\n",
        "  return bigrams\n",
        "\n",
        "  # Example usage:\n",
        "  text = \"hello\"\n",
        "  bigrams = generate_bigrams(text)\n",
        "  print(bigrams)"
      ],
      "metadata": {
        "id": "kCJVIBffgLAJ"
      },
      "execution_count": 15,
      "outputs": []
    },
    {
      "cell_type": "markdown",
      "source": [
        "**QUESTION 5**\n",
        "-  Given a dictionary with keys as letters and values as lists of letters, write a function closest_key to find the key with the input value closest to the beginning of the list."
      ],
      "metadata": {
        "id": "9tslaab2hgjX"
      }
    },
    {
      "cell_type": "markdown",
      "source": [
        "**Steps to Implement the Function**\n",
        "\n",
        "\n",
        "1.   **Iterate through the dictionary** to check each key's list for the presence of the input letter\n",
        "2.   **Keep track of the closest position** where the letter is found\n",
        "3.  **Update the closest key** whenever a new closest position is found.\n",
        "4.  **Return the key** associated with the closest position\n",
        "\n"
      ],
      "metadata": {
        "id": "VgSgLXNXhsC4"
      }
    },
    {
      "cell_type": "code",
      "source": [
        "# PYTHON CODE\n",
        "\n",
        "def closest_key(input_dict, input_letter):\n",
        "  closest_key = None\n",
        "  closest_position = float('inf')\n",
        "  for key, value in input_dict.items():\n",
        "    if input_letter in value:\n",
        "      position = value.index(input_letter)\n",
        "      if position < closest_position:\n",
        "        closest_position = position\n",
        "        closest_key = key\n",
        "  return closest_key\n",
        "\n",
        "  # Usage:\n",
        "letters_dict = {\n",
        "    'a': ['d', 'e', 'f'],\n",
        "    'b': ['g', 'h', 'i', 'j'],\n",
        "    'c': ['k', 'l', 'm', 'n'],\n",
        "    'd': ['i', 'o', 'p'],\n",
        "}\n",
        "\n",
        "target = 'i'\n",
        "result = closest_key(letters_dict, target)\n",
        "print(result)"
      ],
      "metadata": {
        "colab": {
          "base_uri": "https://localhost:8080/"
        },
        "id": "IiODZ6miif8c",
        "outputId": "aa4c3f09-0434-466f-c621-3eab50e60018"
      },
      "execution_count": 16,
      "outputs": [
        {
          "output_type": "stream",
          "name": "stdout",
          "text": [
            "d\n"
          ]
        }
      ]
    },
    {
      "cell_type": "code",
      "source": [],
      "metadata": {
        "id": "4DkaECxCjRRt"
      },
      "execution_count": null,
      "outputs": []
    }
  ]
}